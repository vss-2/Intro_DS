{
 "cells": [
  {
   "cell_type": "code",
   "execution_count": 10,
   "metadata": {},
   "outputs": [
    {
     "name": "stdout",
     "output_type": "stream",
     "text": [
      "[1]\n"
     ]
    }
   ],
   "source": [
    "# Mini-Aula 1: Introdução Árvores de Decisão\n",
    "\n",
    "# Features são características, para facilitar, \n",
    "# trocamos algumas strings por ints:\n",
    "#                    [peso, 0/1: enrugada/lisa]\n",
    "\n",
    "# Labels são rótulos, e o nosso \"objetivo\" é inferí-los\n",
    "# a partir das features que nos são fornecidas.\n",
    "# Aqui substituiremos também strings por ints:\n",
    "# [0/1: maçã/laranja]\n",
    "\n",
    "from sklearn import tree\n",
    "features  = [[140,1], [130,1], [150,0], [170,0]]\n",
    "labels    = [0, 0, 1, 1]\n",
    "classfier = tree.DecisionTreeClassifier()\n",
    "classfier = classfier.fit(features, labels)\n",
    "print(classfier.predict([[150,0]]))\n",
    "\n",
    "# Fim da Mini-Aula 1"
   ]
  },
  {
   "cell_type": "code",
   "execution_count": 16,
   "metadata": {},
   "outputs": [
    {
     "name": "stdout",
     "output_type": "stream",
     "text": [
      "Características: ['sepal length (cm)', 'sepal width (cm)', 'petal length (cm)', 'petal width (cm)']\n",
      "Rótulos: ['setosa' 'versicolor' 'virginica'] \n",
      "\n",
      "O primeiro dado do dataset: [5.1 3.5 1.4 0.2]\n",
      "O tipo do primeiro dado do dataset: 0 \n",
      "\n",
      "[0 0 0 0 0 1 1 1 1 1 2 2 2 2 2]\n",
      "[0 0 0 0 0 1 1 1 1 1 2 2 2 2 2]\n"
     ]
    }
   ],
   "source": [
    "# Mini-Aula 2: Visualizando uma Árvore de Decisão\n",
    "# Metas: \n",
    "# 1. Importar um dataset\n",
    "# 2. Treinar um classificador\n",
    "# 3. Fazer predição para novas flores (entradas)\n",
    "# 4. Visualizar a Árvore de Decisão\n",
    "\n",
    "\n",
    "# .target armazena os labels de cada item do dataset, faça a correspondência com .target_names\n",
    "# Sabemos quais strings são as labels e características através de:\n",
    "# .target_names e feature_names \n",
    "\n",
    "# Lendo o dataset\n",
    "from sklearn.datasets import load_iris\n",
    "import numpy as np\n",
    "iris = load_iris()\n",
    "print('Características:', iris.feature_names)\n",
    "print('Rótulos:', iris.target_names, '\\n')\n",
    "print('O primeiro dado do dataset:', iris.data[0])\n",
    "print('O tipo do primeiro dado do dataset:', iris.target[0], '\\n')\n",
    "\n",
    "# Testando dados\n",
    "\n",
    "# Peguei 5 de cada tipo, estao ordenados (tipo=posicao): 0=0, 1=50, 2=100\n",
    "pos = [0, 50, 100]\n",
    "cinco_teste = []\n",
    "for i in pos:\n",
    "    cinco_teste.append(i)\n",
    "    cinco_teste.append(i+1)\n",
    "    cinco_teste.append(i+2)\n",
    "    cinco_teste.append(i+3)\n",
    "    cinco_teste.append(i+4)\n",
    "\n",
    "# Removo os 15 dados coletados do conjunto, para usar como treino\n",
    "treino_target = np.delete(iris.target, cinco_teste)\n",
    "treino_data   = np.delete(iris.data, cinco_teste, axis=0)\n",
    "\n",
    "# Coloco os 15 de volta aqui\n",
    "teste_target = iris.target[cinco_teste]\n",
    "teste_data   = iris.data[cinco_teste]\n",
    "\n",
    "# Monto o classificador com os 5 de treino\n",
    "classifier = tree.DecisionTreeClassifier()\n",
    "classifier.fit(treino_data, treino_target)\n",
    "\n",
    "# A partir do classificador, avalio todo o conjunto de testes\n",
    "print(teste_target)\n",
    "print(classifier.predict(teste_data))\n",
    "\n",
    "# Fim da Mini-Aula 2"
   ]
  },
  {
   "cell_type": "code",
   "execution_count": 6,
   "metadata": {},
   "outputs": [
    {
     "name": "stdout",
     "output_type": "stream",
     "text": [
      "Acurácia do algoritmo KNN: 0.9866666666666667\n"
     ]
    }
   ],
   "source": [
    "# Mini-Aula 3: Introdução ao Algoritmo K-Nearest Neighbors\n",
    "# Metas:\n",
    "# Usar KNN e métricas para avaliar a predição\n",
    "from sklearn.datasets import load_iris\n",
    "\n",
    "iris = load_iris()\n",
    "\n",
    "x = iris.data\n",
    "y = iris.target\n",
    "\n",
    "# De agora em diante, já que exercitamos particionar\n",
    "# treino e teste anteriormente, vamos usar uma função\n",
    "# built-in para fazê-lo mais rapidamente, \n",
    "# com 50% do tamanho de partição do teste;\n",
    "from sklearn.model_selection import train_test_split\n",
    "\n",
    "x_treino, x_teste, y_treino, y_teste = train_test_split(x, y, test_size = 0.5)\n",
    "\n",
    "from sklearn.neighbors import KNeighborsClassifier\n",
    "\n",
    "# Usando o KNN nos conjuntos de treino e teste\n",
    "classificador = KNeighborsClassifier()\n",
    "classificador.fit(x_treino, y_treino)\n",
    "\n",
    "# Faço o teste no conjunto de teste X\n",
    "predicao = classificador.predict(x_teste)\n",
    "\n",
    "from sklearn.metrics import accuracy_score\n",
    "\n",
    "# Vejo a acurácia do teste: precisão versus conjunto de teste Y\n",
    "print('Acurácia do algoritmo KNN:', accuracy_score(y_teste, predicao))\n",
    "\n",
    "# Fim da Mini-Aula 3"
   ]
  },
  {
   "cell_type": "code",
   "execution_count": 51,
   "metadata": {},
   "outputs": [
    {
     "name": "stdout",
     "output_type": "stream",
     "text": [
      "[2 1 0 1 0 0 0 2 0 0 0 0 2 1 1 2 1 0 0 1 1 2 2 2 2 0 0 2 1 2 0 1 0 0 2 1 0\n",
      " 2 0 2 2 1 0 0 0 2 2 1 0 2 0 2 2 1 0 1 1 1 1 2 1 0 1 0 0 0 1 1 1 2 1 2 2 1\n",
      " 2] [2 1 0 1 0 0 0 2 0 0 0 0 2 1 1 2 1 0 0 1 1 2 1 2 2 0 0 1 1 2 0 2 0 0 2 1 0\n",
      " 2 0 2 2 1 0 0 0 2 2 1 0 2 0 2 2 1 0 1 1 1 1 1 1 0 1 0 0 0 1 1 1 2 1 2 2 1\n",
      " 2]\n",
      "Acurácia do algoritmo KNN: 94.66666666666667\n"
     ]
    }
   ],
   "source": [
    "# Mini-Aula 5: Implementar um rascunho de um classificadorx\n",
    "# Metas:\n",
    "# Ter noção do que é necessário implementar\n",
    "from random import choice\n",
    "from scipy.spatial.distance import euclidean\n",
    "from sklearn.model_selection import train_test_split\n",
    "from sklearn.metrics import accuracy_score\n",
    "import numpy as np\n",
    "class ProtoKNN():\n",
    "    \n",
    "    def fitDados(self, x_treino, y_treino):\n",
    "        # Apenas para salvar os dados, chamam só de fit\n",
    "        self.x_treino = x_treino\n",
    "        self.y_treino = y_treino\n",
    "        return\n",
    "    \n",
    "    def predicao(self, x_teste):\n",
    "        # Tenho que retornar o array com as predicoes\n",
    "        predicoes = []\n",
    "        for valor in x_teste:\n",
    "            # Pega os valores do dataset, aplico a função, e \n",
    "            # insiro no conjunto de predições\n",
    "            tipo  = self.mais_proximo(valor)\n",
    "            predicoes.append(tipo)\n",
    "        return predicoes\n",
    "    \n",
    "    def mais_proximo(self, valor):\n",
    "        # Distância entre dois pontos ((xf-xi)**2 + (yf-yi)**2)**1/2\n",
    "        mais_prox = euclidean(valor, self.x_treino[0])\n",
    "        melhor_idc = 0\n",
    "        for i in range(1, len(self.x_treino)):\n",
    "            dist_atual = euclidean(valor, self.x_treino[i])\n",
    "            if(dist_atual < mais_prox):\n",
    "                mais_prox = dist_atual\n",
    "                melhor_idc = i\n",
    "        # Retorno o tipo do mais próximo (1-NN)\n",
    "        # Se fosse 3, 5, 7... teria que ver a maior frequência e retorná-la\n",
    "        return self.y_treino[melhor_idc]\n",
    "\n",
    "# Import da mini-aula anterior\n",
    "from sklearn.datasets import load_iris\n",
    "iris = load_iris()\n",
    "x = iris.data\n",
    "y = iris.target\n",
    "x_treino, x_teste, y_treino, y_teste = train_test_split(x, y, test_size = 0.5)\n",
    "\n",
    "classificador = ProtoKNN()\n",
    "classificador.fitDados(x_treino, y_treino)\n",
    "\n",
    "# Faço o teste no conjunto de teste X\n",
    "predicao = classificador.predicao(x_teste)\n",
    "predicao = np.asarray(predicao)\n",
    "print(predicao, y_teste)\n",
    "print('Acurácia do algoritmo KNN:', accuracy_score(y_teste, predicao)*100)\n",
    "# Obs, deu algum bug aqui e tava mostrando em decimal, corrigi multiplicando por 100\n"
   ]
  },
  {
   "cell_type": "code",
   "execution_count": null,
   "metadata": {},
   "outputs": [],
   "source": []
  }
 ],
 "metadata": {
  "kernelspec": {
   "display_name": "Python 3",
   "language": "python",
   "name": "python3"
  },
  "language_info": {
   "codemirror_mode": {
    "name": "ipython",
    "version": 3
   },
   "file_extension": ".py",
   "mimetype": "text/x-python",
   "name": "python",
   "nbconvert_exporter": "python",
   "pygments_lexer": "ipython3",
   "version": "3.6.9"
  }
 },
 "nbformat": 4,
 "nbformat_minor": 4
}
