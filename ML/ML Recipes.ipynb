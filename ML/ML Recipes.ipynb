{
 "cells": [
  {
   "cell_type": "code",
   "execution_count": 10,
   "metadata": {},
   "outputs": [
    {
     "name": "stdout",
     "output_type": "stream",
     "text": [
      "[1]\n"
     ]
    }
   ],
   "source": [
    "# Mini-Aula 1: Introdução Árvores de Decisão\n",
    "\n",
    "# Features são características, para facilitar, \n",
    "# trocamos algumas strings por ints:\n",
    "#                    [peso, 0/1: enrugada/lisa]\n",
    "\n",
    "# Labels são rótulos, e o nosso \"objetivo\" é inferí-los\n",
    "# a partir das features que nos são fornecidas.\n",
    "# Aqui substituiremos também strings por ints:\n",
    "# [0/1: maçã/laranja]\n",
    "\n",
    "from sklearn import tree\n",
    "features  = [[140,1], [130,1], [150,0], [170,0]]\n",
    "labels    = [0, 0, 1, 1]\n",
    "classfier = tree.DecisionTreeClassifier()\n",
    "classfier = classfier.fit(features, labels)\n",
    "print(classfier.predict([[150,0]]))\n",
    "\n",
    "# Fim da Mini-Aula 1"
   ]
  },
  {
   "cell_type": "code",
   "execution_count": 16,
   "metadata": {},
   "outputs": [
    {
     "name": "stdout",
     "output_type": "stream",
     "text": [
      "Características: ['sepal length (cm)', 'sepal width (cm)', 'petal length (cm)', 'petal width (cm)']\n",
      "Rótulos: ['setosa' 'versicolor' 'virginica'] \n",
      "\n",
      "O primeiro dado do dataset: [5.1 3.5 1.4 0.2]\n",
      "O tipo do primeiro dado do dataset: 0 \n",
      "\n",
      "[0 0 0 0 0 1 1 1 1 1 2 2 2 2 2]\n",
      "[0 0 0 0 0 1 1 1 1 1 2 2 2 2 2]\n"
     ]
    }
   ],
   "source": [
    "# Mini-Aula 2: Visualizando uma Árvore de Decisão\n",
    "# Metas: \n",
    "# 1. Importar um dataset\n",
    "# 2. Treinar um classificador\n",
    "# 3. Fazer predição para novas flores (entradas)\n",
    "# 4. Visualizar a Árvore de Decisão\n",
    "\n",
    "\n",
    "# .target armazena os labels de cada item do dataset, faça a correspondência com .target_names\n",
    "# Sabemos quais strings são as labels e características através de:\n",
    "# .target_names e feature_names \n",
    "\n",
    "# Lendo o dataset\n",
    "from sklearn.datasets import load_iris\n",
    "import numpy as np\n",
    "iris = load_iris()\n",
    "print('Características:', iris.feature_names)\n",
    "print('Rótulos:', iris.target_names, '\\n')\n",
    "print('O primeiro dado do dataset:', iris.data[0])\n",
    "print('O tipo do primeiro dado do dataset:', iris.target[0], '\\n')\n",
    "\n",
    "# Testando dados\n",
    "\n",
    "# Peguei 5 de cada tipo, estao ordenados (tipo=posicao): 0=0, 1=50, 2=100\n",
    "pos = [0, 50, 100]\n",
    "cinco_teste = []\n",
    "for i in pos:\n",
    "    cinco_teste.append(i)\n",
    "    cinco_teste.append(i+1)\n",
    "    cinco_teste.append(i+2)\n",
    "    cinco_teste.append(i+3)\n",
    "    cinco_teste.append(i+4)\n",
    "\n",
    "# Removo os 15 dados coletados do conjunto, para usar como treino\n",
    "treino_target = np.delete(iris.target, cinco_teste)\n",
    "treino_data   = np.delete(iris.data, cinco_teste, axis=0)\n",
    "\n",
    "# Coloco os 15 de volta aqui\n",
    "teste_target = iris.target[cinco_teste]\n",
    "teste_data   = iris.data[cinco_teste]\n",
    "\n",
    "# Monto o classificador com os 5 de treino\n",
    "classifier = tree.DecisionTreeClassifier()\n",
    "classifier.fit(treino_data, treino_target)\n",
    "\n",
    "# A partir do classificador, avalio todo o conjunto de testes\n",
    "print(teste_target)\n",
    "print(classifier.predict(teste_data))\n",
    "\n",
    "# Fim da Mini-Aula 2"
   ]
  },
  {
   "cell_type": "code",
   "execution_count": null,
   "metadata": {},
   "outputs": [],
   "source": []
  }
 ],
 "metadata": {
  "kernelspec": {
   "display_name": "Python 3",
   "language": "python",
   "name": "python3"
  },
  "language_info": {
   "codemirror_mode": {
    "name": "ipython",
    "version": 3
   },
   "file_extension": ".py",
   "mimetype": "text/x-python",
   "name": "python",
   "nbconvert_exporter": "python",
   "pygments_lexer": "ipython3",
   "version": "3.6.9"
  }
 },
 "nbformat": 4,
 "nbformat_minor": 4
}
