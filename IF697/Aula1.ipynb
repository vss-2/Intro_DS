{
 "nbformat": 4,
 "nbformat_minor": 2,
 "metadata": {
  "language_info": {
   "name": "python",
   "codemirror_mode": {
    "name": "ipython",
    "version": 2
   },
   "version": "3.6.9-final"
  },
  "orig_nbformat": 2,
  "file_extension": ".py",
  "mimetype": "text/x-python",
  "name": "python",
  "npconvert_exporter": "python",
  "pygments_lexer": "ipython2",
  "version": 2,
  "kernelspec": {
   "name": "python36964bit4c78c0ba5dd84846ad20c3e56ffab897",
   "display_name": "Python 3.6.9 64-bit"
  }
 },
 "cells": [
  {
   "cell_type": "code",
   "execution_count": 1,
   "metadata": {},
   "outputs": [],
   "source": [
    "import pandas as pd\n",
    "\n",
    "# Construindo o dataframe\n",
    "df = pd.DataFrame(data['data'], columns=data['feature_names'])\n",
    "# Printa as primeiras 10 linhas\n",
    "df.head(10)"
   ]
  },
  {
   "cell_type": "code",
   "execution_count": null,
   "metadata": {},
   "outputs": [],
   "source": [
    "# A função describe faz uma série de análises: média, min,\n",
    "# max, quantidade, etc; sobre o conjunto em questão\n",
    "df.describe()"
   ]
  },
  {
   "cell_type": "code",
   "execution_count": null,
   "metadata": {},
   "outputs": [],
   "source": [
    "# A função dtypes informa sobre o tipo de dado armazenado nas colunas\n",
    "df.dtypes"
   ]
  },
  {
   "cell_type": "code",
   "execution_count": null,
   "metadata": {},
   "outputs": [],
   "source": [
    "# É possível selecionar uma única ou múltiplas colunas\n",
    "# Obs: o valor padrão de head() é 5\n",
    "print(df['Population'].head())\n",
    "print(df[['Population', 'Longitude']].head())"
   ]
  },
  {
   "cell_type": "code",
   "execution_count": null,
   "metadata": {},
   "outputs": [],
   "source": [
    "# Podemos selecionar linhas e colunas usando loc e iloc\n",
    "# A grande diferença é: iloc só aceita números\n",
    "# como referências de linhas e colunas\n",
    "\n",
    "# O resultado do loc será mostrar as linhas \n",
    "# 7 até 12 com colunas Population e AveRooms\n",
    "print(df.loc[7:13, ['Population', 'AveRooms']])\n",
    "\n",
    "# O resultado do iloc será mostrar as linhas\n",
    "# 1 até 7 com colunas Population e AveRooms\n",
    "print(df.iloc[1:7, [4, 2]])"
   ]
  },
  {
   "cell_type": "code",
   "execution_count": null,
   "metadata": {},
   "outputs": [],
   "source": [
    "# O uso de condicionais é feito com funções implícitas\n",
    "# Há também 2 jeitos de acessar colunas, observe:\n",
    "df1 = df[(df.Population > 1000) & (df['AveBedrms'] > 1)]\n",
    "df1.head()\n",
    "\n",
    "# Observe que esse nosso df1 agora carrega o index do df\n",
    "# Para remover esse detalhe podemos usar a função reset_index\n",
    "df1.reset_index(drop=True)"
   ]
  },
  {
   "cell_type": "code",
   "execution_count": 2,
   "metadata": {},
   "outputs": [],
   "source": [
    "# Podemos acelerar o trabalho de operações matemáticas em colunas usando"
   ]
  }
 ]
}